{
 "cells": [
  {
   "cell_type": "code",
   "execution_count": 39,
   "metadata": {},
   "outputs": [
    {
     "output_type": "error",
     "ename": "SyntaxError",
     "evalue": "invalid syntax (<ipython-input-39-8dc08478fe64>, line 2)",
     "traceback": [
      "\u001b[1;36m  File \u001b[1;32m\"<ipython-input-39-8dc08478fe64>\"\u001b[1;36m, line \u001b[1;32m2\u001b[0m\n\u001b[1;33m    <blockquote>This is good</blockquote>\u001b[0m\n\u001b[1;37m    ^\u001b[0m\n\u001b[1;31mSyntaxError\u001b[0m\u001b[1;31m:\u001b[0m invalid syntax\n"
     ]
    }
   ],
   "source": [
    "# Aquirz Selections\n",
    "<blockquote>This is good</blockquote>"
   ]
  },
  {
   "cell_type": "code",
   "execution_count": 124,
   "metadata": {
    "tags": []
   },
   "outputs": [
    {
     "output_type": "stream",
     "name": "stdout",
     "text": "(1316448, 9)\n(457767, 9)\n(858, 12)\n"
    }
   ],
   "source": [
    "import pandas as pd\n",
    "\n",
    "directory = 'E:/Acquirze/'\n",
    "filename = 'acquirz_all_cleaned_060720.csv'\n",
    "file2 = 'Prospectabot Suppression 09_Jul.csv'\n",
    "colselect = ['contact_urn','company_name','title', 'first_name', 'last_name','job_title','personal_email','sic_5_code','sic_5_desc']\n",
    "df = pd.read_csv(directory+filename,encoding =\"ISO-8859-1\",low_memory=False, usecols=colselect)\n",
    "print(df.shape)\n",
    "df = df[df['personal_email'].notnull()]\n",
    "df['personal_email'] = df['personal_email'].str.lower()\n",
    "df.drop_duplicates(subset=['company_name'], inplace=True)\n",
    "df['company_name'] = df['company_name'].str.lower()\n",
    "print(df.shape)\n",
    "'''\n",
    "siccodes = \"30120|33110|33120|33130|33140|33150|33160|33170|33190|41100|\\\n",
    "41201|41202|42910|42990|43310|43210|43220|43290|\\\n",
    "43320|43342|43910|43999|45200|45400|81210|81221|\\\n",
    "91040|95110|95120|95210|95220|95230|95240|95250|95290\"\n",
    "\n",
    "final = df[df['SICCode.SicText_1'].str.contains(siccodes)]\n",
    "print(final.shape)\n",
    "final.to_csv(directory +  \"b2bwoodwork2\" + \".csv\", index=False)\n",
    "'''\n",
    "file2 = 'Prospectabot Suppression 09_Jul.csv'\n",
    "df2 = pd.read_csv(directory+file2,encoding =\"utf-8\",low_memory=False)\n",
    "df2 = df2.str.lower()\n",
    "#Remove suppressions\n",
    "\n",
    "#sicodes = ['18129','22290','25990','27900','28990','32500','32990','41100','42990','43220','43990','45200',\\\n",
    "#    '49410','62012','62020', '62090','64999','68310','69109','69201', '70229','71129','74909','77390','82990','84110','85310',\\\n",
    "#        '85421','85590','94990','96090']\n",
    "sicodes = ['46130', '46390','36000','43342', '33120','28110','26200','45310','71121','49319','86210','32120'\\\n",
    "    '73120','80100', '51101', '29320','27400']\n",
    "extra = ['96030','79120','46730','49320','30300']\n",
    "df= df[df['sic_5_code'].isin(sicodes)]\n",
    "new = df[\"personal_email\"].str.split(pat=\"@\", expand=True)\n",
    "df['domain'] = new[1]\n",
    "\n",
    "domainsuppress = df2[\"Domain\"].unique()\n",
    "\n",
    "final = (df.merge(df2, left_on=['domain'], right_on = ['Domain'], how='left', indicator=True)\n",
    "     .query('_merge == \"left_only\"')\n",
    "     .drop('_merge', 1))\n",
    "\n",
    "print(final.shape)\n",
    "\n",
    "#counts = final['sic_5_code'].value_counts().rename_axis('sic_5_code').reset_index(name='Count')\n",
    "\n",
    "final.to_csv(directory +  \"prospectabot_20k_extra\" + \".csv\", index=False)\n"
   ]
  },
  {
   "cell_type": "code",
   "execution_count": null,
   "metadata": {
    "tags": []
   },
   "outputs": [],
   "source": [
    "\n",
    "\n",
    "a = '12345 - next one'\n",
    "b = 'category - test'\n",
    "d = {'col1': [a, b], 'col2': [3, 4]}\n",
    "df = pd.DataFrame(data=d)\n",
    "print(df['col1'].str[:5])\n",
    "df.loc[df['col1'].str[:5].str.isnumeric(), 'col3'] = df['col1'].str[:5]\n",
    "print(df)"
   ]
  },
  {
   "cell_type": "code",
   "execution_count": null,
   "metadata": {
    "tags": []
   },
   "outputs": [],
   "source": [
    "import pandas as pd\n",
    "import numpy as np\n",
    "directory = 'E:/Acquirze/'\n",
    "file = 'acquirz_jul20_cleaned_160720.csv'\n",
    "colsel = ['Company Name','email', 'SIC5 Code Description']\n",
    "df = pd.read_csv(directory+file,encoding =\"ISO-8859-1\",low_memory=False,usecols=colsel)\n",
    "df['SIC5 Code Description'] = df['SIC5 Code Description'].replace(r'^\\s*$', 'No Sic code', regex=True)\n",
    "df.loc[df['SIC5 Code Description'].str[:5].str.isnumeric(), 'sic_code'] = df['SIC5 Code Description'].str[:5]\n",
    "#print(df['sic_code'].value_counts())\n",
    "counts = df['sic_code'].value_counts().rename_axis('sic_5_code').reset_index(name='Count')\n",
    "\n",
    "counts.to_csv(directory +  \"sic_5_code_counts_ 16julyfile\" + \".csv\", index=False)"
   ]
  },
  {
   "cell_type": "code",
   "execution_count": null,
   "metadata": {},
   "outputs": [],
   "source": [
    "pd.unique(pd.Series([pd.Timestamp('20160101'), pd.Timestamp('20160101')]))"
   ]
  },
  {
   "cell_type": "code",
   "execution_count": 48,
   "metadata": {},
   "outputs": [
    {
     "output_type": "execute_result",
     "data": {
      "text/plain": "[b, a, c]\nCategories (3, object): [b, a, c]"
     },
     "metadata": {},
     "execution_count": 48
    }
   ],
   "source": [
    "pd.unique(pd.Series(pd.Categorical(list('baabc'),categories=list('abc'))))"
   ]
  },
  {
   "cell_type": "code",
   "execution_count": 60,
   "metadata": {
    "tags": []
   },
   "outputs": [
    {
     "output_type": "stream",
     "name": "stdout",
     "text": "Name  Age    Address Qualification\n0     Jai   27     Nagpur           Msc\n1    Anuj   24     Kanpur            MA\n2     Jai   22  Allahabad           MCA\n3  Princi   32    Kannuaj           Phd\n4  Gaurav   33    Jaunpur        B.Tech\n5    Anuj   36     Kanpur         B.com\n6  Princi   27  Allahabad           Msc\n7    Abhi   32    Aligarh            MA\nAbhi\n   Name  Age  Address Qualification\n7  Abhi   32  Aligarh            MA\nAnuj\n   Name  Age Address Qualification\n1  Anuj   24  Kanpur            MA\n5  Anuj   36  Kanpur         B.com\nGaurav\n     Name  Age  Address Qualification\n4  Gaurav   33  Jaunpur        B.Tech\nJai\n  Name  Age    Address Qualification\n0  Jai   27     Nagpur           Msc\n2  Jai   22  Allahabad           MCA\nPrinci\n     Name  Age    Address Qualification\n3  Princi   32    Kannuaj           Phd\n6  Princi   27  Allahabad           Msc\n"
    }
   ],
   "source": [
    "data1 = {'Name':['Jai', 'Anuj', 'Jai', 'Princi',  \n",
    "                 'Gaurav', 'Anuj', 'Princi', 'Abhi'],  \n",
    "        'Age':[27, 24, 22, 32,  \n",
    "               33, 36, 27, 32],  \n",
    "        'Address':['Nagpur', 'Kanpur', 'Allahabad', 'Kannuaj', \n",
    "                   'Jaunpur', 'Kanpur', 'Allahabad', 'Aligarh'],  \n",
    "        'Qualification':['Msc', 'MA', 'MCA', 'Phd', \n",
    "                         'B.Tech', 'B.com', 'Msc', 'MA']}  \n",
    "df =pd.DataFrame(data1)\n",
    "print(df)\n",
    "\n",
    "grp = df.groupby('Name') \n",
    "for name, group in grp: \n",
    "    print(name) \n",
    "    print(group) \n",
    "    \n"
   ]
  },
  {
   "cell_type": "code",
   "execution_count": null,
   "metadata": {},
   "outputs": [],
   "source": []
  }
 ],
 "metadata": {
  "language_info": {
   "codemirror_mode": {
    "name": "ipython",
    "version": 3
   },
   "file_extension": ".py",
   "mimetype": "text/x-python",
   "name": "python",
   "nbconvert_exporter": "python",
   "pygments_lexer": "ipython3",
   "version": 3
  },
  "orig_nbformat": 2,
  "kernelspec": {
   "name": "python_defaultSpec_1594976127778",
   "display_name": "Python 3.8.0 64-bit ('conda_default': conda)"
  }
 },
 "nbformat": 4,
 "nbformat_minor": 2
}